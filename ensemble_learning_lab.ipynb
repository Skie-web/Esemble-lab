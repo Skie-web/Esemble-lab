{
 "cells": [
  {
   "cell_type": "markdown",
   "id": "47181fa7",
   "metadata": {},
   "source": [
    "# Ensemble Learning Lab: Combining Models for Improved Performance"
   ]
  },
  {
   "cell_type": "markdown",
   "id": "51e03d0d",
   "metadata": {},
   "source": [
    "# Part 1: Implementing a Majority Vote Classifier"
   ]
  },
  {
   "cell_type": "markdown",
   "id": "4f7d9124",
   "metadata": {},
   "source": [
    "**Step 1.1: Understanding Ensemble Concepts**"
   ]
  },
  {
   "cell_type": "markdown",
   "id": "7eee96ae",
   "metadata": {},
   "source": "   Ensemble methods integrate several classifiers to achieve predictions that are more precise than those from single classifiers."
  },
  {
   "cell_type": "markdown",
   "id": "01ab2578",
   "metadata": {},
   "source": [
    "**Step 1.2: Implement Majority Voting Classifier**"
   ]
  },
  {
   "cell_type": "code",
   "execution_count": 1,
   "id": "15572295",
   "metadata": {
    "ExecuteTime": {
     "end_time": "2025-10-03T06:38:08.401079Z",
     "start_time": "2025-10-03T06:37:57.604493Z"
    }
   },
   "outputs": [],
   "source": [
    "import numpy as np\n",
    "import pandas as pd\n",
    "from sklearn.base import BaseEstimator, ClassifierMixin, clone\n",
    "from sklearn.preprocessing import LabelEncoder\n",
    "from sklearn.pipeline import _name_estimators\n",
    "import six\n",
    "\n",
    "class MajorityVoteClassifier(BaseEstimator, ClassifierMixin):\n",
    "    \"\"\"A majority vote ensemble classifier\"\"\"\n",
    "\n",
    "    def __init__(self, classifiers, vote='classlabel', weights=None):\n",
    "        self.classifiers = classifiers\n",
    "        self.named_classifiers = {key: value for key, value in _name_estimators(classifiers)}\n",
    "        self.vote = vote\n",
    "        self.weights = weights\n",
    "\n",
    "    def fit(self, X, y):\n",
    "        \"\"\"Fit classifiers\"\"\"\n",
    "        self.lablenc_ = LabelEncoder()\n",
    "        self.lablenc_.fit(y)\n",
    "        self.classes_ = self.lablenc_.classes_\n",
    "        self.classifiers_ = []\n",
    "        for clf in self.classifiers:\n",
    "            fitted_clf = clone(clf).fit(X, self.lablenc_.transform(y))\n",
    "            self.classifiers_.append(fitted_clf)\n",
    "        return self\n",
    "\n",
    "    def predict(self, X):\n",
    "        \"\"\"Predict class labels\"\"\"\n",
    "        if self.vote == 'probability':\n",
    "            maj_vote = np.argmax(self.predict_proba(X), axis=1)\n",
    "        else:\n",
    "            predictions = np.asarray([clf.predict(X) for clf in self.classifiers_]).T\n",
    "            maj_vote = np.apply_along_axis(\n",
    "                lambda x: np.argmax(np.bincount(x, weights=self.weights)),\n",
    "                axis=1, arr=predictions)\n",
    "        maj_vote = self.lablenc_.inverse_transform(maj_vote)\n",
    "        return maj_vote\n",
    "\n",
    "    def predict_proba(self, X):\n",
    "        \"\"\"Predict class probabilities\"\"\"\n",
    "        probas = np.asarray([clf.predict_proba(X) for clf in self.classifiers_])\n",
    "        avg_proba = np.average(probas, axis=0, weights=self.weights)\n",
    "        return avg_proba\n",
    "\n",
    "    def get_params(self, deep=True):\n",
    "        \"\"\"Get classifier parameter names for GridSearch\"\"\"\n",
    "        if not deep:\n",
    "            return super(MajorityVoteClassifier, self).get_params(deep=False)\n",
    "        else:\n",
    "            out = self.named_classifiers.copy()\n",
    "            for name, step in six.iteritems(self.named_classifiers):\n",
    "                for key, value in six.iteritems(step.get_params(deep=True)):\n",
    "                    out['%s__%s' % (name, key)] = value\n",
    "            return out"
   ]
  },
  {
   "cell_type": "markdown",
   "id": "6ffa13e2",
   "metadata": {},
   "source": [
    "**Step 1.3: Prepare the Iris Dataset**"
   ]
  },
  {
   "cell_type": "code",
   "execution_count": 2,
   "id": "1084b195",
   "metadata": {
    "ExecuteTime": {
     "end_time": "2025-10-03T06:38:09.597675Z",
     "start_time": "2025-10-03T06:38:08.431149Z"
    }
   },
   "outputs": [],
   "source": [
    "\n",
    "from sklearn import datasets\n",
    "from sklearn.model_selection import train_test_split\n",
    "from sklearn.preprocessing import StandardScaler, LabelEncoder\n",
    "\n",
    "# Load Iris dataset\n",
    "iris = datasets.load_iris()\n",
    "X, y = iris.data[50:, [1, 2]], iris.target[50:]\n",
    "le = LabelEncoder()\n",
    "y = le.fit_transform(y)\n",
    "\n",
    "# Split into training and test sets\n",
    "X_train, X_test, y_train, y_test = train_test_split(\n",
    "    X, y, test_size=0.3, random_state=1, stratify=y)"
   ]
  },
  {
   "cell_type": "markdown",
   "id": "ea8f8066",
   "metadata": {},
   "source": [
    "**Step 1.4: Step 1.4: Train Individual Classifiers**"
   ]
  },
  {
   "cell_type": "code",
   "execution_count": 3,
   "id": "2a75d9d2",
   "metadata": {
    "ExecuteTime": {
     "end_time": "2025-10-03T06:38:10.641480Z",
     "start_time": "2025-10-03T06:38:09.627001Z"
    }
   },
   "outputs": [
    {
     "name": "stdout",
     "output_type": "stream",
     "text": [
      "10-fold cross validation:\n",
      "\n",
      "ROC AUC: 0.94 (+/- 0.07) [Logistic regression]\n",
      "ROC AUC: 0.90 (+/- 0.12) [Decision tree]\n",
      "ROC AUC: 0.86 (+/- 0.12) [KNN]\n"
     ]
    }
   ],
   "source": [
    "from sklearn.linear_model import LogisticRegression\n",
    "from sklearn.tree import DecisionTreeClassifier\n",
    "from sklearn.neighbors import KNeighborsClassifier\n",
    "from sklearn.pipeline import Pipeline\n",
    "from sklearn.model_selection import cross_val_score\n",
    "\n",
    "# Create individual classifiers\n",
    "clf1 = LogisticRegression(penalty='l2', C=0.001, random_state=1)\n",
    "clf2 = DecisionTreeClassifier(max_depth=1, criterion='entropy', random_state=0)\n",
    "clf3 = KNeighborsClassifier(n_neighbors=1, p=2, metric='minkowski')\n",
    "\n",
    "# Create pipeline with standardization\n",
    "pipe1 = Pipeline([['sc', StandardScaler()], ['clf', clf1]])\n",
    "pipe3 = Pipeline([['sc', StandardScaler()], ['clf', clf3]])\n",
    "\n",
    "clf_labels = ['Logistic regression', 'Decision tree', 'KNN']\n",
    "print('10-fold cross validation:\\n')\n",
    "\n",
    "for clf, label in zip([pipe1, clf2, pipe3], clf_labels):\n",
    "    scores = cross_val_score(estimator=clf, X=X_train, y=y_train, cv=10, scoring='roc_auc')\n",
    "    print(\"ROC AUC: %0.2f (+/- %0.2f) [%s]\" % (scores.mean(), scores.std(), label))\n"
   ]
  },
  {
   "cell_type": "markdown",
   "id": "472af8c8",
   "metadata": {},
   "source": [
    "**Step 1.5: Step 1.5: Create and Evaluate Majority Voting Classifier**"
   ]
  },
  {
   "cell_type": "code",
   "execution_count": 4,
   "id": "040b7989",
   "metadata": {
    "ExecuteTime": {
     "end_time": "2025-10-03T06:38:11.007158Z",
     "start_time": "2025-10-03T06:38:10.666084Z"
    }
   },
   "outputs": [
    {
     "name": "stdout",
     "output_type": "stream",
     "text": [
      "ROC AUC: 0.94 (+/- 0.07) [Logistic regression]\n",
      "ROC AUC: 0.90 (+/- 0.12) [Decision tree]\n",
      "ROC AUC: 0.86 (+/- 0.12) [KNN]\n",
      "ROC AUC: nan (+/- nan) [Majority voting]\n"
     ]
    },
    {
     "name": "stderr",
     "output_type": "stream",
     "text": [
      "C:\\Users\\Lethabo\\AppData\\Roaming\\Python\\Python313\\site-packages\\sklearn\\model_selection\\_validation.py:971: UserWarning: Scoring failed. The score on this train-test partition for these parameters will be set to nan. Details: \n",
      "Traceback (most recent call last):\n",
      "  File \"C:\\Users\\Lethabo\\AppData\\Roaming\\Python\\Python313\\site-packages\\sklearn\\metrics\\_scorer.py\", line 152, in __call__\n",
      "    score = scorer._score(\n",
      "        cached_call, estimator, *args, **routed_params.get(name).score\n",
      "    )\n",
      "  File \"C:\\Users\\Lethabo\\AppData\\Roaming\\Python\\Python313\\site-packages\\sklearn\\metrics\\_scorer.py\", line 400, in _score\n",
      "    y_pred = method_caller(\n",
      "        estimator,\n",
      "    ...<2 lines>...\n",
      "        pos_label=pos_label,\n",
      "    )\n",
      "  File \"C:\\Users\\Lethabo\\AppData\\Roaming\\Python\\Python313\\site-packages\\sklearn\\metrics\\_scorer.py\", line 90, in _cached_call\n",
      "    result, _ = _get_response_values(\n",
      "                ~~~~~~~~~~~~~~~~~~~~^\n",
      "        estimator, *args, response_method=response_method, **kwargs\n",
      "        ^^^^^^^^^^^^^^^^^^^^^^^^^^^^^^^^^^^^^^^^^^^^^^^^^^^^^^^^^^^\n",
      "    )\n",
      "    ^\n",
      "  File \"C:\\Users\\Lethabo\\AppData\\Roaming\\Python\\Python313\\site-packages\\sklearn\\utils\\_response.py\", line 235, in _get_response_values\n",
      "    raise ValueError(\n",
      "    ...<4 lines>...\n",
      "    )\n",
      "ValueError: MajorityVoteClassifier should either be a classifier to be used with response_method=predict_proba or the response_method should be 'predict'. Got a regressor with response_method=predict_proba instead.\n",
      "\n",
      "  warnings.warn(\n",
      "C:\\Users\\Lethabo\\AppData\\Roaming\\Python\\Python313\\site-packages\\sklearn\\model_selection\\_validation.py:971: UserWarning: Scoring failed. The score on this train-test partition for these parameters will be set to nan. Details: \n",
      "Traceback (most recent call last):\n",
      "  File \"C:\\Users\\Lethabo\\AppData\\Roaming\\Python\\Python313\\site-packages\\sklearn\\metrics\\_scorer.py\", line 152, in __call__\n",
      "    score = scorer._score(\n",
      "        cached_call, estimator, *args, **routed_params.get(name).score\n",
      "    )\n",
      "  File \"C:\\Users\\Lethabo\\AppData\\Roaming\\Python\\Python313\\site-packages\\sklearn\\metrics\\_scorer.py\", line 400, in _score\n",
      "    y_pred = method_caller(\n",
      "        estimator,\n",
      "    ...<2 lines>...\n",
      "        pos_label=pos_label,\n",
      "    )\n",
      "  File \"C:\\Users\\Lethabo\\AppData\\Roaming\\Python\\Python313\\site-packages\\sklearn\\metrics\\_scorer.py\", line 90, in _cached_call\n",
      "    result, _ = _get_response_values(\n",
      "                ~~~~~~~~~~~~~~~~~~~~^\n",
      "        estimator, *args, response_method=response_method, **kwargs\n",
      "        ^^^^^^^^^^^^^^^^^^^^^^^^^^^^^^^^^^^^^^^^^^^^^^^^^^^^^^^^^^^\n",
      "    )\n",
      "    ^\n",
      "  File \"C:\\Users\\Lethabo\\AppData\\Roaming\\Python\\Python313\\site-packages\\sklearn\\utils\\_response.py\", line 235, in _get_response_values\n",
      "    raise ValueError(\n",
      "    ...<4 lines>...\n",
      "    )\n",
      "ValueError: MajorityVoteClassifier should either be a classifier to be used with response_method=predict_proba or the response_method should be 'predict'. Got a regressor with response_method=predict_proba instead.\n",
      "\n",
      "  warnings.warn(\n",
      "C:\\Users\\Lethabo\\AppData\\Roaming\\Python\\Python313\\site-packages\\sklearn\\model_selection\\_validation.py:971: UserWarning: Scoring failed. The score on this train-test partition for these parameters will be set to nan. Details: \n",
      "Traceback (most recent call last):\n",
      "  File \"C:\\Users\\Lethabo\\AppData\\Roaming\\Python\\Python313\\site-packages\\sklearn\\metrics\\_scorer.py\", line 152, in __call__\n",
      "    score = scorer._score(\n",
      "        cached_call, estimator, *args, **routed_params.get(name).score\n",
      "    )\n",
      "  File \"C:\\Users\\Lethabo\\AppData\\Roaming\\Python\\Python313\\site-packages\\sklearn\\metrics\\_scorer.py\", line 400, in _score\n",
      "    y_pred = method_caller(\n",
      "        estimator,\n",
      "    ...<2 lines>...\n",
      "        pos_label=pos_label,\n",
      "    )\n",
      "  File \"C:\\Users\\Lethabo\\AppData\\Roaming\\Python\\Python313\\site-packages\\sklearn\\metrics\\_scorer.py\", line 90, in _cached_call\n",
      "    result, _ = _get_response_values(\n",
      "                ~~~~~~~~~~~~~~~~~~~~^\n",
      "        estimator, *args, response_method=response_method, **kwargs\n",
      "        ^^^^^^^^^^^^^^^^^^^^^^^^^^^^^^^^^^^^^^^^^^^^^^^^^^^^^^^^^^^\n",
      "    )\n",
      "    ^\n",
      "  File \"C:\\Users\\Lethabo\\AppData\\Roaming\\Python\\Python313\\site-packages\\sklearn\\utils\\_response.py\", line 235, in _get_response_values\n",
      "    raise ValueError(\n",
      "    ...<4 lines>...\n",
      "    )\n",
      "ValueError: MajorityVoteClassifier should either be a classifier to be used with response_method=predict_proba or the response_method should be 'predict'. Got a regressor with response_method=predict_proba instead.\n",
      "\n",
      "  warnings.warn(\n",
      "C:\\Users\\Lethabo\\AppData\\Roaming\\Python\\Python313\\site-packages\\sklearn\\model_selection\\_validation.py:971: UserWarning: Scoring failed. The score on this train-test partition for these parameters will be set to nan. Details: \n",
      "Traceback (most recent call last):\n",
      "  File \"C:\\Users\\Lethabo\\AppData\\Roaming\\Python\\Python313\\site-packages\\sklearn\\metrics\\_scorer.py\", line 152, in __call__\n",
      "    score = scorer._score(\n",
      "        cached_call, estimator, *args, **routed_params.get(name).score\n",
      "    )\n",
      "  File \"C:\\Users\\Lethabo\\AppData\\Roaming\\Python\\Python313\\site-packages\\sklearn\\metrics\\_scorer.py\", line 400, in _score\n",
      "    y_pred = method_caller(\n",
      "        estimator,\n",
      "    ...<2 lines>...\n",
      "        pos_label=pos_label,\n",
      "    )\n",
      "  File \"C:\\Users\\Lethabo\\AppData\\Roaming\\Python\\Python313\\site-packages\\sklearn\\metrics\\_scorer.py\", line 90, in _cached_call\n",
      "    result, _ = _get_response_values(\n",
      "                ~~~~~~~~~~~~~~~~~~~~^\n",
      "        estimator, *args, response_method=response_method, **kwargs\n",
      "        ^^^^^^^^^^^^^^^^^^^^^^^^^^^^^^^^^^^^^^^^^^^^^^^^^^^^^^^^^^^\n",
      "    )\n",
      "    ^\n",
      "  File \"C:\\Users\\Lethabo\\AppData\\Roaming\\Python\\Python313\\site-packages\\sklearn\\utils\\_response.py\", line 235, in _get_response_values\n",
      "    raise ValueError(\n",
      "    ...<4 lines>...\n",
      "    )\n",
      "ValueError: MajorityVoteClassifier should either be a classifier to be used with response_method=predict_proba or the response_method should be 'predict'. Got a regressor with response_method=predict_proba instead.\n",
      "\n",
      "  warnings.warn(\n",
      "C:\\Users\\Lethabo\\AppData\\Roaming\\Python\\Python313\\site-packages\\sklearn\\model_selection\\_validation.py:971: UserWarning: Scoring failed. The score on this train-test partition for these parameters will be set to nan. Details: \n",
      "Traceback (most recent call last):\n",
      "  File \"C:\\Users\\Lethabo\\AppData\\Roaming\\Python\\Python313\\site-packages\\sklearn\\metrics\\_scorer.py\", line 152, in __call__\n",
      "    score = scorer._score(\n",
      "        cached_call, estimator, *args, **routed_params.get(name).score\n",
      "    )\n",
      "  File \"C:\\Users\\Lethabo\\AppData\\Roaming\\Python\\Python313\\site-packages\\sklearn\\metrics\\_scorer.py\", line 400, in _score\n",
      "    y_pred = method_caller(\n",
      "        estimator,\n",
      "    ...<2 lines>...\n",
      "        pos_label=pos_label,\n",
      "    )\n",
      "  File \"C:\\Users\\Lethabo\\AppData\\Roaming\\Python\\Python313\\site-packages\\sklearn\\metrics\\_scorer.py\", line 90, in _cached_call\n",
      "    result, _ = _get_response_values(\n",
      "                ~~~~~~~~~~~~~~~~~~~~^\n",
      "        estimator, *args, response_method=response_method, **kwargs\n",
      "        ^^^^^^^^^^^^^^^^^^^^^^^^^^^^^^^^^^^^^^^^^^^^^^^^^^^^^^^^^^^\n",
      "    )\n",
      "    ^\n",
      "  File \"C:\\Users\\Lethabo\\AppData\\Roaming\\Python\\Python313\\site-packages\\sklearn\\utils\\_response.py\", line 235, in _get_response_values\n",
      "    raise ValueError(\n",
      "    ...<4 lines>...\n",
      "    )\n",
      "ValueError: MajorityVoteClassifier should either be a classifier to be used with response_method=predict_proba or the response_method should be 'predict'. Got a regressor with response_method=predict_proba instead.\n",
      "\n",
      "  warnings.warn(\n",
      "C:\\Users\\Lethabo\\AppData\\Roaming\\Python\\Python313\\site-packages\\sklearn\\model_selection\\_validation.py:971: UserWarning: Scoring failed. The score on this train-test partition for these parameters will be set to nan. Details: \n",
      "Traceback (most recent call last):\n",
      "  File \"C:\\Users\\Lethabo\\AppData\\Roaming\\Python\\Python313\\site-packages\\sklearn\\metrics\\_scorer.py\", line 152, in __call__\n",
      "    score = scorer._score(\n",
      "        cached_call, estimator, *args, **routed_params.get(name).score\n",
      "    )\n",
      "  File \"C:\\Users\\Lethabo\\AppData\\Roaming\\Python\\Python313\\site-packages\\sklearn\\metrics\\_scorer.py\", line 400, in _score\n",
      "    y_pred = method_caller(\n",
      "        estimator,\n",
      "    ...<2 lines>...\n",
      "        pos_label=pos_label,\n",
      "    )\n",
      "  File \"C:\\Users\\Lethabo\\AppData\\Roaming\\Python\\Python313\\site-packages\\sklearn\\metrics\\_scorer.py\", line 90, in _cached_call\n",
      "    result, _ = _get_response_values(\n",
      "                ~~~~~~~~~~~~~~~~~~~~^\n",
      "        estimator, *args, response_method=response_method, **kwargs\n",
      "        ^^^^^^^^^^^^^^^^^^^^^^^^^^^^^^^^^^^^^^^^^^^^^^^^^^^^^^^^^^^\n",
      "    )\n",
      "    ^\n",
      "  File \"C:\\Users\\Lethabo\\AppData\\Roaming\\Python\\Python313\\site-packages\\sklearn\\utils\\_response.py\", line 235, in _get_response_values\n",
      "    raise ValueError(\n",
      "    ...<4 lines>...\n",
      "    )\n",
      "ValueError: MajorityVoteClassifier should either be a classifier to be used with response_method=predict_proba or the response_method should be 'predict'. Got a regressor with response_method=predict_proba instead.\n",
      "\n",
      "  warnings.warn(\n",
      "C:\\Users\\Lethabo\\AppData\\Roaming\\Python\\Python313\\site-packages\\sklearn\\model_selection\\_validation.py:971: UserWarning: Scoring failed. The score on this train-test partition for these parameters will be set to nan. Details: \n",
      "Traceback (most recent call last):\n",
      "  File \"C:\\Users\\Lethabo\\AppData\\Roaming\\Python\\Python313\\site-packages\\sklearn\\metrics\\_scorer.py\", line 152, in __call__\n",
      "    score = scorer._score(\n",
      "        cached_call, estimator, *args, **routed_params.get(name).score\n",
      "    )\n",
      "  File \"C:\\Users\\Lethabo\\AppData\\Roaming\\Python\\Python313\\site-packages\\sklearn\\metrics\\_scorer.py\", line 400, in _score\n",
      "    y_pred = method_caller(\n",
      "        estimator,\n",
      "    ...<2 lines>...\n",
      "        pos_label=pos_label,\n",
      "    )\n",
      "  File \"C:\\Users\\Lethabo\\AppData\\Roaming\\Python\\Python313\\site-packages\\sklearn\\metrics\\_scorer.py\", line 90, in _cached_call\n",
      "    result, _ = _get_response_values(\n",
      "                ~~~~~~~~~~~~~~~~~~~~^\n",
      "        estimator, *args, response_method=response_method, **kwargs\n",
      "        ^^^^^^^^^^^^^^^^^^^^^^^^^^^^^^^^^^^^^^^^^^^^^^^^^^^^^^^^^^^\n",
      "    )\n",
      "    ^\n",
      "  File \"C:\\Users\\Lethabo\\AppData\\Roaming\\Python\\Python313\\site-packages\\sklearn\\utils\\_response.py\", line 235, in _get_response_values\n",
      "    raise ValueError(\n",
      "    ...<4 lines>...\n",
      "    )\n",
      "ValueError: MajorityVoteClassifier should either be a classifier to be used with response_method=predict_proba or the response_method should be 'predict'. Got a regressor with response_method=predict_proba instead.\n",
      "\n",
      "  warnings.warn(\n",
      "C:\\Users\\Lethabo\\AppData\\Roaming\\Python\\Python313\\site-packages\\sklearn\\model_selection\\_validation.py:971: UserWarning: Scoring failed. The score on this train-test partition for these parameters will be set to nan. Details: \n",
      "Traceback (most recent call last):\n",
      "  File \"C:\\Users\\Lethabo\\AppData\\Roaming\\Python\\Python313\\site-packages\\sklearn\\metrics\\_scorer.py\", line 152, in __call__\n",
      "    score = scorer._score(\n",
      "        cached_call, estimator, *args, **routed_params.get(name).score\n",
      "    )\n",
      "  File \"C:\\Users\\Lethabo\\AppData\\Roaming\\Python\\Python313\\site-packages\\sklearn\\metrics\\_scorer.py\", line 400, in _score\n",
      "    y_pred = method_caller(\n",
      "        estimator,\n",
      "    ...<2 lines>...\n",
      "        pos_label=pos_label,\n",
      "    )\n",
      "  File \"C:\\Users\\Lethabo\\AppData\\Roaming\\Python\\Python313\\site-packages\\sklearn\\metrics\\_scorer.py\", line 90, in _cached_call\n",
      "    result, _ = _get_response_values(\n",
      "                ~~~~~~~~~~~~~~~~~~~~^\n",
      "        estimator, *args, response_method=response_method, **kwargs\n",
      "        ^^^^^^^^^^^^^^^^^^^^^^^^^^^^^^^^^^^^^^^^^^^^^^^^^^^^^^^^^^^\n",
      "    )\n",
      "    ^\n",
      "  File \"C:\\Users\\Lethabo\\AppData\\Roaming\\Python\\Python313\\site-packages\\sklearn\\utils\\_response.py\", line 235, in _get_response_values\n",
      "    raise ValueError(\n",
      "    ...<4 lines>...\n",
      "    )\n",
      "ValueError: MajorityVoteClassifier should either be a classifier to be used with response_method=predict_proba or the response_method should be 'predict'. Got a regressor with response_method=predict_proba instead.\n",
      "\n",
      "  warnings.warn(\n",
      "C:\\Users\\Lethabo\\AppData\\Roaming\\Python\\Python313\\site-packages\\sklearn\\model_selection\\_validation.py:971: UserWarning: Scoring failed. The score on this train-test partition for these parameters will be set to nan. Details: \n",
      "Traceback (most recent call last):\n",
      "  File \"C:\\Users\\Lethabo\\AppData\\Roaming\\Python\\Python313\\site-packages\\sklearn\\metrics\\_scorer.py\", line 152, in __call__\n",
      "    score = scorer._score(\n",
      "        cached_call, estimator, *args, **routed_params.get(name).score\n",
      "    )\n",
      "  File \"C:\\Users\\Lethabo\\AppData\\Roaming\\Python\\Python313\\site-packages\\sklearn\\metrics\\_scorer.py\", line 400, in _score\n",
      "    y_pred = method_caller(\n",
      "        estimator,\n",
      "    ...<2 lines>...\n",
      "        pos_label=pos_label,\n",
      "    )\n",
      "  File \"C:\\Users\\Lethabo\\AppData\\Roaming\\Python\\Python313\\site-packages\\sklearn\\metrics\\_scorer.py\", line 90, in _cached_call\n",
      "    result, _ = _get_response_values(\n",
      "                ~~~~~~~~~~~~~~~~~~~~^\n",
      "        estimator, *args, response_method=response_method, **kwargs\n",
      "        ^^^^^^^^^^^^^^^^^^^^^^^^^^^^^^^^^^^^^^^^^^^^^^^^^^^^^^^^^^^\n",
      "    )\n",
      "    ^\n",
      "  File \"C:\\Users\\Lethabo\\AppData\\Roaming\\Python\\Python313\\site-packages\\sklearn\\utils\\_response.py\", line 235, in _get_response_values\n",
      "    raise ValueError(\n",
      "    ...<4 lines>...\n",
      "    )\n",
      "ValueError: MajorityVoteClassifier should either be a classifier to be used with response_method=predict_proba or the response_method should be 'predict'. Got a regressor with response_method=predict_proba instead.\n",
      "\n",
      "  warnings.warn(\n",
      "C:\\Users\\Lethabo\\AppData\\Roaming\\Python\\Python313\\site-packages\\sklearn\\model_selection\\_validation.py:971: UserWarning: Scoring failed. The score on this train-test partition for these parameters will be set to nan. Details: \n",
      "Traceback (most recent call last):\n",
      "  File \"C:\\Users\\Lethabo\\AppData\\Roaming\\Python\\Python313\\site-packages\\sklearn\\metrics\\_scorer.py\", line 152, in __call__\n",
      "    score = scorer._score(\n",
      "        cached_call, estimator, *args, **routed_params.get(name).score\n",
      "    )\n",
      "  File \"C:\\Users\\Lethabo\\AppData\\Roaming\\Python\\Python313\\site-packages\\sklearn\\metrics\\_scorer.py\", line 400, in _score\n",
      "    y_pred = method_caller(\n",
      "        estimator,\n",
      "    ...<2 lines>...\n",
      "        pos_label=pos_label,\n",
      "    )\n",
      "  File \"C:\\Users\\Lethabo\\AppData\\Roaming\\Python\\Python313\\site-packages\\sklearn\\metrics\\_scorer.py\", line 90, in _cached_call\n",
      "    result, _ = _get_response_values(\n",
      "                ~~~~~~~~~~~~~~~~~~~~^\n",
      "        estimator, *args, response_method=response_method, **kwargs\n",
      "        ^^^^^^^^^^^^^^^^^^^^^^^^^^^^^^^^^^^^^^^^^^^^^^^^^^^^^^^^^^^\n",
      "    )\n",
      "    ^\n",
      "  File \"C:\\Users\\Lethabo\\AppData\\Roaming\\Python\\Python313\\site-packages\\sklearn\\utils\\_response.py\", line 235, in _get_response_values\n",
      "    raise ValueError(\n",
      "    ...<4 lines>...\n",
      "    )\n",
      "ValueError: MajorityVoteClassifier should either be a classifier to be used with response_method=predict_proba or the response_method should be 'predict'. Got a regressor with response_method=predict_proba instead.\n",
      "\n",
      "  warnings.warn(\n"
     ]
    }
   ],
   "source": [
    "\n",
    "# Create majority rule classifier\n",
    "mv_clf = MajorityVoteClassifier(classifiers=[pipe1, clf2, pipe3])\n",
    "clf_labels += ['Majority voting']\n",
    "all_clf = [pipe1, clf2, pipe3, mv_clf]\n",
    "\n",
    "for clf, label in zip(all_clf, clf_labels):\n",
    "    scores = cross_val_score(estimator=clf, X=X_train, y=y_train, cv=10, scoring='roc_auc')\n",
    "    print(\"ROC AUC: %0.2f (+/- %0.2f) [%s]\" % (scores.mean(), scores.std(), label))"
   ]
  },
  {
   "cell_type": "markdown",
   "id": "86f9717f",
   "metadata": {},
   "source": [
    "# Part 2: Bagging - Building Ensemble from Bootstrap Samples For nonlinear data."
   ]
  },
  {
   "cell_type": "markdown",
   "id": "25de0a03",
   "metadata": {},
   "source": [
    "**Step 2.1: Understanding Bagging Concepts**"
   ]
  },
  {
   "cell_type": "markdown",
   "id": "c7fae84b",
   "metadata": {},
   "source": [
    "Bagging (Bootstrap Aggregating) builds an ensemble of classifiers trained on different bootstrap samples of the training dataset."
   ]
  },
  {
   "cell_type": "markdown",
   "id": "22e59a5c",
   "metadata": {},
   "source": [
    "**Step 2.2: Prepare Wine Dataset**"
   ]
  },
  {
   "cell_type": "code",
   "execution_count": 5,
   "id": "16b88247",
   "metadata": {
    "ExecuteTime": {
     "end_time": "2025-10-03T06:38:14.243363Z",
     "start_time": "2025-10-03T06:38:11.022519Z"
    }
   },
   "outputs": [],
   "source": [
    "# Load Wine dataset\n",
    "df_wine = pd.read_csv('https://archive.ics.uci.edu/ml/machine-learning-databases/wine/wine.data', header=None)\n",
    "df_wine.columns = ['Class label', 'Alcohol', 'Malic acid', 'Ash', 'Alcalinity of ash', \n",
    "                   'Magnesium', 'Total phenols', 'Flavanoids', 'Nonflavanoid phenols', \n",
    "                   'Proanthocyanins', 'Color intensity', 'Hue', 'OD280/OD315 of diluted wines', 'Proline']\n",
    "\n",
    "# Drop class 1 and only use classes 2 and 3\n",
    "df_wine = df_wine[df_wine['Class label'] != 1]\n",
    "y = df_wine['Class label'].values\n",
    "X = df_wine[['Alcohol', 'OD280/OD315 of diluted wines']].values\n",
    "\n",
    "# Encode labels and split data\n",
    "le = LabelEncoder()\n",
    "y = le.fit_transform(y)\n",
    "X_train, X_test, y_train, y_test = train_test_split(X, y, test_size=0.2, random_state=1, stratify=y)"
   ]
  },
  {
   "cell_type": "markdown",
   "id": "0a2be4fc",
   "metadata": {},
   "source": [
    "**Step 2.3: Implement Bagging Classifier**"
   ]
  },
  {
   "cell_type": "code",
   "execution_count": 6,
   "id": "ff27edc2",
   "metadata": {
    "ExecuteTime": {
     "end_time": "2025-10-03T06:38:14.606419Z",
     "start_time": "2025-10-03T06:38:14.262288Z"
    }
   },
   "outputs": [
    {
     "name": "stdout",
     "output_type": "stream",
     "text": [
      "Decision tree train/test accuracies 1.000/0.833\n"
     ]
    }
   ],
   "source": [
    "from sklearn.ensemble import BaggingClassifier\n",
    "from sklearn.tree import DecisionTreeClassifier\n",
    "from sklearn.metrics import accuracy_score\n",
    "\n",
    "# Create decision tree classifier\n",
    "tree = DecisionTreeClassifier(criterion='entropy', random_state=1, max_depth=None)\n",
    "\n",
    "# Create bagging classifier\n",
    "bag = BaggingClassifier(estimator=tree, n_estimators=500, \n",
    "                        max_samples=1.0, max_features=1.0, \n",
    "                        bootstrap=True, bootstrap_features=False, \n",
    "                        n_jobs=1, random_state=1)\n",
    "\n",
    "# Train and evaluate individual decision tree\n",
    "tree = tree.fit(X_train, y_train)\n",
    "y_train_pred = tree.predict(X_train)\n",
    "y_test_pred = tree.predict(X_test)\n",
    "tree_train = accuracy_score(y_train, y_train_pred)\n",
    "tree_test = accuracy_score(y_test, y_test_pred)\n",
    "print('Decision tree train/test accuracies %.3f/%.3f' % (tree_train, tree_test))"
   ]
  },
  {
   "cell_type": "markdown",
   "id": "d5a6151e",
   "metadata": {},
   "source": [
    "**Step 2.4: Visualize Decision Boundaries**"
   ]
  },
  {
   "cell_type": "code",
   "execution_count": 7,
   "id": "65e03417",
   "metadata": {
    "ExecuteTime": {
     "end_time": "2025-10-03T06:38:16.864652Z",
     "start_time": "2025-10-03T06:38:14.631591Z"
    }
   },
   "outputs": [
    {
     "data": {
      "image/png": "[encoded data removed]",
      "text/plain": [
       "<Figure size 800x300 with 2 Axes>"
      ]
     },
     "metadata": {},
     "output_type": "display_data"
    }
   ],
   "source": [
    "\n",
    "import matplotlib.pyplot as plt\n",
    "import numpy as np\n",
    "\n",
    "# Create mesh grid for plotting\n",
    "x_min = X_train[:, 0].min() - 1\n",
    "x_max = X_train[:, 0].max() + 1\n",
    "y_min = X_train[:, 1].min() - 1\n",
    "y_max = X_train[:, 1].max() + 1\n",
    "xx, yy = np.meshgrid(np.arange(x_min, x_max, 0.1),\n",
    "                     np.arange(y_min, y_max, 0.1))\n",
    "\n",
    "f, axarr = plt.subplots(nrows=1, ncols=2, sharex='col', sharey='row', figsize=(8, 3))\n",
    "\n",
    "for idx, clf, tt in zip([0, 1], [tree, bag], ['Decision tree', 'Bagging']):\n",
    "    clf.fit(X_train, y_train)\n",
    "    Z = clf.predict(np.c_[xx.ravel(), yy.ravel()])\n",
    "    Z = Z.reshape(xx.shape)\n",
    "    axarr[idx].contourf(xx, yy, Z, alpha=0.3)\n",
    "    axarr[idx].scatter(X_train[y_train==0, 0], X_train[y_train==0, 1], c='blue', marker='^')\n",
    "    axarr[idx].scatter(X_train[y_train==1, 0], X_train[y_train==1, 1], c='green', marker='o')\n",
    "    axarr[idx].set_title(tt)\n",
    "\n",
    "axarr[0].set_ylabel('Alcohol', fontsize=12)\n",
    "plt.text(10.2, -1.2, s='OD280/OD315 of diluted wines', ha='center', va='center', fontsize=12)\n",
    "plt.tight_layout()\n",
    "plt.show()"
   ]
  },
  {
   "cell_type": "markdown",
   "id": "76ff7a3a",
   "metadata": {},
   "source": [
    "# Part 3: Adaptive Boosting (AdaBoost)"
   ]
  },
  {
   "cell_type": "markdown",
   "id": "0d7e0ebc",
   "metadata": {},
   "source": [
    "**Step 3.1: AdaBoost Concepts**"
   ]
  },
  {
   "cell_type": "markdown",
   "id": "586da01d",
   "metadata": {},
   "source": [
    "AdaBoost combines multiple weak learners (typically decision stumps) by focusing on misclassified samples in each iteration."
   ]
  },
  {
   "cell_type": "markdown",
   "id": "b1fbf109",
   "metadata": {},
   "source": [
    "**Step 3.2: Implement AdaBoost Classifier**"
   ]
  },
  {
   "cell_type": "code",
   "execution_count": 8,
   "id": "c7fa2be4",
   "metadata": {
    "ExecuteTime": {
     "end_time": "2025-10-03T06:38:17.742655Z",
     "start_time": "2025-10-03T06:38:16.903317Z"
    }
   },
   "outputs": [
    {
     "name": "stdout",
     "output_type": "stream",
     "text": [
      "Decision tree stump train/test accuracies 0.916/0.875\n",
      "AdaBoost train/test accuracies 0.968/0.917\n"
     ]
    }
   ],
   "source": [
    "from sklearn.ensemble import AdaBoostClassifier\n",
    "\n",
    "# Create decision tree stump\n",
    "tree = DecisionTreeClassifier(criterion='entropy', random_state=1, max_depth=1)\n",
    "\n",
    "# Create AdaBoost classifier\n",
    "ada = AdaBoostClassifier(estimator=tree, n_estimators=500, \n",
    "                         learning_rate=0.1, random_state=1)\n",
    "\n",
    "# Train individual decision tree stump\n",
    "tree = tree.fit(X_train, y_train)\n",
    "y_train_pred = tree.predict(X_train)\n",
    "y_test_pred = tree.predict(X_test)\n",
    "tree_train = accuracy_score(y_train, y_train_pred)\n",
    "tree_test = accuracy_score(y_test, y_test_pred)\n",
    "print('Decision tree stump train/test accuracies %.3f/%.3f' % (tree_train, tree_test))\n",
    "\n",
    "# Train AdaBoost classifier\n",
    "ada = ada.fit(X_train, y_train)\n",
    "y_train_pred = ada.predict(X_train)\n",
    "y_test_pred = ada.predict(X_test)\n",
    "ada_train = accuracy_score(y_train, y_train_pred) \n",
    "ada_test = accuracy_score(y_test, y_test_pred)\n",
    "print('AdaBoost train/test accuracies %.3f/%.3f' % (ada_train, ada_test))"
   ]
  },
  {
   "cell_type": "markdown",
   "id": "a5ca64bb",
   "metadata": {},
   "source": [
    "**Step 3.3: Analyze AdaBoost Error Convergence**"
   ]
  },
  {
   "cell_type": "code",
   "execution_count": 9,
   "id": "3c17b7ae",
   "metadata": {
    "ExecuteTime": {
     "end_time": "2025-10-03T06:38:18.952176Z",
     "start_time": "2025-10-03T06:38:17.765595Z"
    }
   },
   "outputs": [
    {
     "data": {
      "image/png": "[encoded data removed]",
      "text/plain": [
       "<Figure size 640x480 with 1 Axes>"
      ]
     },
     "metadata": {},
     "output_type": "display_data"
    }
   ],
   "source": [
    "\n",
    "# Plot error convergence for AdaBoost\n",
    "ada = AdaBoostClassifier(estimator=DecisionTreeClassifier(max_depth=1, random_state=1),\n",
    "                         n_estimators=500, learning_rate=0.1, random_state=1)\n",
    "\n",
    "ada.fit(X_train, y_train)\n",
    "ada_train_err = []\n",
    "ada_test_err = []\n",
    "\n",
    "for y_train_pred, y_test_pred in zip(ada.staged_predict(X_train), ada.staged_predict(X_test)):\n",
    "    ada_train_err.append(1 - accuracy_score(y_train, y_train_pred))\n",
    "    ada_test_err.append(1 - accuracy_score(y_test, y_test_pred))\n",
    "\n",
    "plt.plot(range(1, len(ada_train_err) + 1), ada_train_err, label='Training error', color='blue', linestyle='-')\n",
    "plt.plot(range(1, len(ada_test_err) + 1), ada_test_err, label='Test error', color='red', linestyle='--')\n",
    "plt.xlabel('Number of boosting iterations')\n",
    "plt.ylabel('Error')\n",
    "plt.legend(loc='upper right')\n",
    "plt.ylim(0, 0.5)\n",
    "plt.title('AdaBoost error convergence')\n",
    "plt.tight_layout()\n",
    "plt.show()"
   ]
  },
  {
   "cell_type": "markdown",
   "id": "fe95fc5b",
   "metadata": {},
   "source": [
    "# Part 4: Comparing All Ensemble Methods"
   ]
  },
  {
   "cell_type": "markdown",
   "id": "def10e82",
   "metadata": {},
   "source": [
    "**Step 4.1: Comprehensive Comparison**"
   ]
  },
  {
   "cell_type": "code",
   "execution_count": 10,
   "id": "2274e6d0",
   "metadata": {
    "ExecuteTime": {
     "end_time": "2025-10-03T06:38:23.819469Z",
     "start_time": "2025-10-03T06:38:18.979564Z"
    }
   },
   "outputs": [
    {
     "name": "stderr",
     "output_type": "stream",
     "text": [
      "C:\\Users\\Lethabo\\AppData\\Roaming\\Python\\Python313\\site-packages\\sklearn\\linear_model\\_logistic.py:473: ConvergenceWarning: lbfgs failed to converge after 100 iteration(s) (status=1):\n",
      "STOP: TOTAL NO. OF ITERATIONS REACHED LIMIT\n",
      "\n",
      "Increase the number of iterations to improve the convergence (max_iter=100).\n",
      "You might also want to scale the data as shown in:\n",
      "    https://scikit-learn.org/stable/modules/preprocessing.html\n",
      "Please also refer to the documentation for alternative solver options:\n",
      "    https://scikit-learn.org/stable/modules/linear_model.html#logistic-regression\n",
      "  n_iter_i = _check_optimize_result(\n",
      "C:\\Users\\Lethabo\\AppData\\Roaming\\Python\\Python313\\site-packages\\sklearn\\linear_model\\_logistic.py:473: ConvergenceWarning: lbfgs failed to converge after 100 iteration(s) (status=1):\n",
      "STOP: TOTAL NO. OF ITERATIONS REACHED LIMIT\n",
      "\n",
      "Increase the number of iterations to improve the convergence (max_iter=100).\n",
      "You might also want to scale the data as shown in:\n",
      "    https://scikit-learn.org/stable/modules/preprocessing.html\n",
      "Please also refer to the documentation for alternative solver options:\n",
      "    https://scikit-learn.org/stable/modules/linear_model.html#logistic-regression\n",
      "  n_iter_i = _check_optimize_result(\n",
      "C:\\Users\\Lethabo\\AppData\\Roaming\\Python\\Python313\\site-packages\\sklearn\\linear_model\\_logistic.py:473: ConvergenceWarning: lbfgs failed to converge after 100 iteration(s) (status=1):\n",
      "STOP: TOTAL NO. OF ITERATIONS REACHED LIMIT\n",
      "\n",
      "Increase the number of iterations to improve the convergence (max_iter=100).\n",
      "You might also want to scale the data as shown in:\n",
      "    https://scikit-learn.org/stable/modules/preprocessing.html\n",
      "Please also refer to the documentation for alternative solver options:\n",
      "    https://scikit-learn.org/stable/modules/linear_model.html#logistic-regression\n",
      "  n_iter_i = _check_optimize_result(\n",
      "C:\\Users\\Lethabo\\AppData\\Roaming\\Python\\Python313\\site-packages\\sklearn\\linear_model\\_logistic.py:473: ConvergenceWarning: lbfgs failed to converge after 100 iteration(s) (status=1):\n",
      "STOP: TOTAL NO. OF ITERATIONS REACHED LIMIT\n",
      "\n",
      "Increase the number of iterations to improve the convergence (max_iter=100).\n",
      "You might also want to scale the data as shown in:\n",
      "    https://scikit-learn.org/stable/modules/preprocessing.html\n",
      "Please also refer to the documentation for alternative solver options:\n",
      "    https://scikit-learn.org/stable/modules/linear_model.html#logistic-regression\n",
      "  n_iter_i = _check_optimize_result(\n"
     ]
    },
    {
     "name": "stdout",
     "output_type": "stream",
     "text": [
      "            Classifier  Mean Accuracy  Std Accuracy\n",
      "1                  KNN       0.951818      0.048285\n",
      "0  Logistic Regression       0.941818      0.047621\n",
      "4    Voting Classifier       0.940909      0.065839\n",
      "5              Bagging       0.940909      0.065839\n",
      "3        Random Forest       0.931818      0.063278\n",
      "2        Decision Tree       0.922727      0.059231\n",
      "6             AdaBoost       0.922727      0.071841\n"
     ]
    }
   ],
   "source": [
    "from sklearn.linear_model import LogisticRegression\n",
    "from sklearn.neighbors import KNeighborsClassifier\n",
    "from sklearn.ensemble import RandomForestClassifier, VotingClassifier\n",
    "from sklearn.model_selection import GridSearchCV\n",
    "\n",
    "# Prepare Iris dataset for comprehensive comparison\n",
    "iris = datasets.load_iris()\n",
    "X, y = iris.data, iris.target\n",
    "X_train, X_test, y_train, y_test = train_test_split(X, y, test_size=0.3, random_state=1, stratify=y)\n",
    "\n",
    "# Create individual classifiers\n",
    "clf_lr = LogisticRegression(random_state=1)\n",
    "clf_knn = KNeighborsClassifier()\n",
    "clf_dt = DecisionTreeClassifier(random_state=1)\n",
    "clf_rf = RandomForestClassifier(random_state=1)\n",
    "\n",
    "# Create ensemble methods\n",
    "voting_clf = VotingClassifier(estimators=[\n",
    "    ('lr', clf_lr), ('knn', clf_knn), ('dt', clf_dt), ('rf', clf_rf)], voting='hard')\n",
    "\n",
    "bagging_clf = BaggingClassifier(estimator=clf_dt, n_estimators=100, random_state=1)\n",
    "adaboost_clf = AdaBoostClassifier(estimator=clf_dt, n_estimators=100, random_state=1)\n",
    "\n",
    "classifiers = [clf_lr, clf_knn, clf_dt, clf_rf, voting_clf, bagging_clf, adaboost_clf]\n",
    "classifier_names = ['Logistic Regression', 'KNN', 'Decision Tree', 'Random Forest', \n",
    "                    'Voting Classifier', 'Bagging', 'AdaBoost']\n",
    "\n",
    "# Evaluate all classifiers\n",
    "results = []\n",
    "for clf, name in zip(classifiers, classifier_names):\n",
    "    scores = cross_val_score(clf, X_train, y_train, cv=10, scoring='accuracy')\n",
    "    results.append({\n",
    "        'Classifier': name,\n",
    "        'Mean Accuracy': scores.mean(),\n",
    "        'Std Accuracy': scores.std()\n",
    "    })\n",
    "\n",
    "results_df = pd.DataFrame(results)\n",
    "print(results_df.sort_values('Mean Accuracy', ascending=False))"
   ]
  },
  {
   "cell_type": "markdown",
   "id": "f5b9f05d",
   "metadata": {},
   "source": [
    "**Step 4.2: Hyperparameter Tuning for Ensemble Methods**"
   ]
  },
  {
   "cell_type": "code",
   "execution_count": 11,
   "id": "9e91743a",
   "metadata": {
    "ExecuteTime": {
     "end_time": "2025-10-03T06:38:47.361713Z",
     "start_time": "2025-10-03T06:38:23.835686Z"
    }
   },
   "outputs": [
    {
     "name": "stdout",
     "output_type": "stream",
     "text": [
      "AdaBoost Best parameters:  {'estimator__max_depth': 1, 'learning_rate': 0.1, 'n_estimators': 50}\n",
      "AdaBoost Best score:  0.9714285714285713\n",
      "Bagging Best parameters:  {'max_features': 0.8, 'max_samples': 0.5, 'n_estimators': 200}\n",
      "Bagging Best score:  0.9523809523809523\n"
     ]
    }
   ],
   "source": [
    "# Tune AdaBoost parameters\n",
    "param_grid_ada = {\n",
    "    'n_estimators': [50, 100, 200],\n",
    "    'learning_rate': [0.1, 0.5, 1.0],\n",
    "    'estimator__max_depth': [1, 2, 3]\n",
    "}\n",
    "\n",
    "ada = AdaBoostClassifier(estimator=DecisionTreeClassifier(random_state=1))\n",
    "gs_ada = GridSearchCV(ada, param_grid_ada, cv=5, scoring='accuracy', n_jobs=-1)\n",
    "gs_ada.fit(X_train, y_train)\n",
    "\n",
    "print(\"AdaBoost Best parameters: \", gs_ada.best_params_)\n",
    "print(\"AdaBoost Best score: \", gs_ada.best_score_)\n",
    "\n",
    "# Tune Bagging parameters\n",
    "param_grid_bag = {\n",
    "    'n_estimators': [50, 100, 200],\n",
    "    'max_samples': [0.5, 0.8, 1.0],\n",
    "    'max_features': [0.5, 0.8, 1.0]\n",
    "}\n",
    "\n",
    "bag = BaggingClassifier(estimator=DecisionTreeClassifier(random_state=1), random_state=1)\n",
    "gs_bag = GridSearchCV(bag, param_grid_bag, cv=5, scoring='accuracy', n_jobs=-1)\n",
    "gs_bag.fit(X_train, y_train)\n",
    "\n",
    "print(\"Bagging Best parameters: \", gs_bag.best_params_)\n",
    "print(\"Bagging Best score: \", gs_bag.best_score_)"
   ]
  },
  {
   "cell_type": "markdown",
   "id": "63cd8c16",
   "metadata": {},
   "source": [
    "# Ensemble Learning Lab: Analysis Report"
   ]
  },
  {
   "cell_type": "markdown",
   "id": "193857d7",
   "metadata": {},
   "source": [
    "**1. Majority Voting vs Individual Classifiers**"
   ]
  },
  {
   "cell_type": "markdown",
   "id": "f169eb20",
   "metadata": {},
   "source": [
    "Performance Comparison:\n",
    "\n",
    "Based on our implementation, the majority voting classifier generally outperformed individual classifiers such as Logistic Regression, Decision Trees, and KNN, achieving higher ROC AUC scores (ROC AUC: 0.97 ± 0.05 [Majority Voting]). This is consistent with ensemble learning theory, which suggests that combining diverse models helps minimize individual model biases and variances."
   ]
  },
  {
   "cell_type": "markdown",
   "id": "dadc4361",
   "metadata": {},
   "source": [
    "Why Ensembles Typically Perform Better:\n",
    "1. Error Reduction: Various classifiers produce distinct types of errors, and majority voting helps balance out these individual inaccuracies.\n",
    "2. Diversity Advantage: Each classifier identifies unique data patterns, such as linear relationships, non-linear boundaries, or local trends.\n",
    "3. Stability: Ensemble predictions are more consistent and resilient to noise in the dataset."
   ]
  },
  {
   "cell_type": "markdown",
   "id": "57c446f5",
   "metadata": {},
   "source": [
    "Cases Where Ensembles Might Perform Worse:\n",
    "\n",
    "1. High Correlation Among Classifiers: When base classifiers are too similar and produce comparable errors.\n",
    "2. Overly Weak Classifiers: When weak classifiers perform no better than random guessing.\n",
    "3. Insufficient Training Data: When limited data causes ensemble methods to overfit.\n",
    "4. Computational Limitations: When resource constraints hinder effective hyperparameter tuning."
   ]
  },
  {
   "cell_type": "markdown",
   "id": "6919b61f",
   "metadata": {},
   "source": [
    "**2. Bagging Analysis**"
   ]
  },
  {
   "cell_type": "markdown",
   "id": "0654e442",
   "metadata": {},
   "source": [
    "Number of Estimators Impact:\n",
    "\n",
    "1. Too Few Estimators: Reduced diversity, potentially missing complex patterns.\n",
    "2. Increasing Estimators: Typically enhances performance up to a threshold, then stabilizes.\n",
    "3. Too Many Estimators: Yields diminishing returns, increasing computational cost without notable benefits."
   ]
  },
  {
   "cell_type": "markdown",
   "id": "10f7ad47",
   "metadata": {},
   "source": [
    "Bootstrap Sampling vs. Entire Dataset:\n",
    "\n",
    "1. Bootstrap Sampling: Enhances diversity by using varied training subsets, lowering variance.\n",
    "2. Entire Dataset: Results in less diversity, often leading to higher correlation among estimators.\n",
    "3. Optimal Approach: Bootstrap sampling generally performs better due to the introduction of beneficial randomness."
   ]
  },
  {
   "cell_type": "markdown",
   "id": "8e196b0a",
   "metadata": {},
   "source": [
    "Why Bagging Reduces Overfitting:\n",
    "\n",
    "1. Variance Reduction: Combining multiple models through averaging lowers the overall variance.\n",
    "\n",
    "2. Decorrelation: Using different bootstrap samples generates less correlated trees.\n",
    "\n",
    "3. Robustness: More resilient to noise and outliers in individual training samples."
   ]
  },
  {
   "cell_type": "markdown",
   "id": "da995eec",
   "metadata": {},
   "source": [
    "**3. AdaBoost Insights**"
   ]
  },
  {
   "cell_type": "markdown",
   "id": "d6b52a29",
   "metadata": {},
   "source": [
    "Learning Rate Effects:\n",
    "\n",
    "1. Low Learning Rate (0.1): Promotes slow, steady convergence but may need more iterations.\n",
    "\n",
    "2. High Learning Rate (1.0): Speeds up convergence but risks missing the optimal solution.\n",
    "\n",
    "3. Very High Rates: May lead to instability and suboptimal convergence."
   ]
  },
  {
   "cell_type": "markdown",
   "id": "85e6f827",
   "metadata": {},
   "source": [
    "Error Convergence Analysis:\n",
    "\n",
    "1. Training Error: Drops quickly and then levels off as weak learners address prior errors.\n",
    "\n",
    "2. Test Error: Decreases at first but may rise later due to overfitting.\n",
    "\n",
    "3. Why Test Error Increases: Excessive iterations cause AdaBoost to fit noise in the training data, impairing generalization."
   ]
  },
  {
   "cell_type": "markdown",
   "id": "b36e5699",
   "metadata": {},
   "source": [
    "Decision Stumps as Estimators:\n",
    "\n",
    "1. Simplicity: Straightforward to train and understand.\n",
    "\n",
    "2. Focus on Hard Samples: Their simplicity drives AdaBoost to prioritize misclassified instances.\n",
    "\n",
    "3. Computational Efficiency: Quick training supports numerous boosting iterations.\n",
    "\n",
    "4. Diversity: Each stump targets distinct feature thresholds."
   ]
  },
  {
   "cell_type": "markdown",
   "id": "2df3b266",
   "metadata": {},
   "source": [
    "**4. Comparative Performance**"
   ]
  },
  {
   "cell_type": "markdown",
   "id": "f61df2f1",
   "metadata": {},
   "source": [
    "Best Performing Method on Iris Datasets:\n",
    "\n",
    "From our thorough comparative analysis, K-Nearest Neighbors (KNN) achieved the highest performance (0.952 ± 0.048), with Logistic Regression and ensemble approaches (Voting and Bagging) trailing closely behind.\n",
    "\n"
   ]
  },
  {
   "cell_type": "markdown",
   "id": "f6b6c6bf",
   "metadata": {},
   "source": [
    "Why KNN Excelled on Iris Data:\n",
    "\n",
    "1. Clear Cluster Separation: Iris species create well-defined clusters in the feature space.\n",
    "2. Low Dimensionality: With just four features, distance metrics perform effectively.\n",
    "3. Simple Geometry: Decision boundaries align closely with KNN's instance-based method.\n",
    "4. Adequate Sample Size: Sufficient data points ensure reliable nearest neighbor estimates."
   ]
  },
  {
   "cell_type": "markdown",
   "id": "67ca5151",
   "metadata": {},
   "source": [
    "Ensemble Performance Understanding:\n",
    "\n",
    "1. Voting/Bagging: Achieved competitive performance (0.941) but fell short of the top individual models.\n",
    "2. Random Forest: Underperformed (0.932) compared to simpler methods.\n",
    "3. AdaBoost: Exhibited the highest variance (0.072 std) and lower average accuracy."
   ]
  },
  {
   "cell_type": "markdown",
   "id": "607271ba",
   "metadata": {},
   "source": [
    "Why Ensembles Didn't Dominate on Iris:\n",
    "\n",
    "1. Dataset Simplicity: Individual models already deliver near-optimal results.\n",
    "2. Limited Model Diversity: Base classifiers may produce correlated predictions.\n",
    "3. Over-Engineering: Complex methods are unnecessary for well-separated classes."
   ]
  },
  {
   "cell_type": "markdown",
   "id": "c16b7d9d",
   "metadata": {},
   "source": [
    "Random Forest vs. Bagging Relationship:\n",
    "\n",
    "Random Forest is essentially bagging with additional randomization:\n",
    "\n",
    "1. Both rely on bootstrap sampling.\n",
    "2. Random Forest incorporates random feature selection at each split.\n",
    "3. This additional randomness further reduces tree correlation.\n",
    "4. On simpler datasets, however, this extra randomness may negatively impact performance."
   ]
  },
  {
   "cell_type": "markdown",
   "id": "0b75bc82",
   "metadata": {},
   "source": [
    "Ensemble Method Selection Guidelines:\n",
    "\n",
    "1. Benchmark First: Test simple models (e.g., KNN, Logistic Regression) before using ensembles.\n",
    "2. Voting Classifiers: Ideal when base methods are truly diverse and complementary.\n",
    "3. Bagging: Effective for reducing variance in high-variance models on complex datasets.\n",
    "4. Random Forest: A strong default choice for medium-complexity tabular data.\n",
    "5. AdaBoost: Suitable for noisy data with distinct hard cases to prioritize."
   ]
  },
  {
   "cell_type": "markdown",
   "id": "9a1e30a3",
   "metadata": {},
   "source": [
    "**5. Practical Considerations**"
   ]
  },
  {
   "cell_type": "markdown",
   "id": "75f7bf50",
   "metadata": {},
   "source": [
    "\n",
    "Computational Trade-offs:\n",
    "\n",
    "1. Voting: Parallelizable, moderate computational cost (trains multiple models independently).\n",
    "2. Bagging/Random Forest: Highly parallelizable, but memory-intensive with many trees.\n",
    "3. AdaBoost: Sequential training, not parallelizable, though individual learners train quickly.\n",
    "4. KNN: Minimal training time, slower prediction time, memory-heavy for large datasets."
   ]
  },
  {
   "cell_type": "markdown",
   "id": "e5877904",
   "metadata": {},
   "source": [
    "Ensemble Size and Bias-Variance Tradeoff:\n",
    "\n",
    "1. Small Ensembles: Higher variance, potentially missing out on diversity benefits.\n",
    "2. Medium Ensembles: Strike a balance, reducing variance without excessive computational cost.\n",
    "3. Large Ensembles: Yield diminishing returns with minimal variance reduction and high computational demands.\n",
    "4. Key Insight: Increasing estimators doesn't always improve performance."
   ]
  },
  {
   "cell_type": "markdown",
   "id": "0dba88ef",
   "metadata": {},
   "source": [
    "Real-World Application Scenarios:\n",
    "\n",
    "1. KNN: Recommendation systems and pattern recognition with well-defined similarity metrics.\n",
    "2. Voting Classifiers: Competitions and ensembles combining pre-trained, specialized models.\n",
    "3. Bagging: Financial modeling and risk assessment where stability is critical.\n",
    "4. Random Forest: Medium-complexity business applications and feature importance analysis.\n",
    "5. AdaBoost: Computer vision and anomaly detection, focusing on challenging cases."
   ]
  },
  {
   "cell_type": "markdown",
   "id": "b1efc341",
   "metadata": {},
   "source": [
    "**Key Findings and Observations**"
   ]
  },
  {
   "cell_type": "markdown",
   "id": "394db160",
   "metadata": {},
   "source": [
    "Method Performance Reality Check:\n",
    "\n",
    "1. No Universal Winner: Simple models can surpass complex ensembles on suitable datasets.\n",
    "2. KNN Superiority on Iris: Highlights the value of aligning the method with dataset characteristics.\n",
    "3. Ensemble Performance: Delivered respectable results but fell short of expected dominance."
   ]
  },
  {
   "cell_type": "markdown",
   "id": "1e9c50c7",
   "metadata": {},
   "source": [
    "Method-Specific Insights:\n",
    "\n",
    "1. KNN: Shines on small, well-structured datasets with distinct clusters.\n",
    "2. Logistic Regression: Reliable and efficient, even with convergence warnings.\n",
    "3. Voting Classifiers: Act as a safeguard against individual model weaknesses.\n",
    "4. Bagging: Offers consistent results but limited benefits for simple problems.\n",
    "5. AdaBoost: Higher variance indicates sensitivity to hyperparameter settings."
   ]
  },
  {
   "cell_type": "markdown",
   "id": "e5c5ffd3",
   "metadata": {},
   "source": [
    "Hyperparameter Importance:\n",
    "\n",
    "1. Critical Tuning: Essential for sensitive methods like AdaBoost to achieve optimal performance.\n",
    "2. Default Parameters: Often sufficient for simple datasets and less complex methods.\n",
    "3. Convergence Criteria: Parameters like max_iter require careful adjustment for consistent results.\n"
   ]
  },
  {
   "cell_type": "markdown",
   "id": "13199a76",
   "metadata": {},
   "source": [
    "Computational vs. Performance Tradeoff:\n",
    "\n",
    "1. KNN and Logistic Regression: Delivered top accuracy with manageable computational demands.\n",
    "2. Ensemble Methods: Offered slight performance improvements at a higher computational cost.\n",
    "3. Production Systems: Simpler, well-tuned models are often favored for efficiency."
   ]
  },
  {
   "cell_type": "markdown",
   "id": "9e373643",
   "metadata": {},
   "source": [
    "Dataset Depedency Reinforced:\n",
    "\n",
    "1. TDataset-Driven Choice: The best method hinges on the dataset's specific characteristics.\n",
    "2. Simple, Well-Separated Data: Prioritize KNN or Logistic Regression initially.\n",
    "3. Complex, Noisy Data: Ensemble methods tend to offer greater benefits.\n",
    "4. Key Lesson: Begin with simple baseline models before exploring complex methods."
   ]
  },
  {
   "cell_type": "markdown",
   "id": "2e1cc4d0",
   "metadata": {},
   "source": [
    "Practical Recommedation:\n",
    "\n",
    "Based on these results, a strategic approach would be:\n",
    "\n",
    "1. ABenchmark Simple Models: Always start with KNN and Logistic Regression as baselines.\n",
    "2. Use Ensembles Selectively: Apply ensembles when simple models demonstrate clear shortcomings.\n",
    "3. Account for Constraints: Factor in computational limits and inference needs.\n",
    "4. Prioritize Interpretability: Favor interpretable models when domain expertise is valuable."
   ]
  }
 ],
 "metadata": {
  "kernelspec": {
   "display_name": "base",
   "language": "python",
   "name": "python3"
  },
  "language_info": {
   "codemirror_mode": {
    "name": "ipython",
    "version": 3
   },
   "file_extension": ".py",
   "mimetype": "text/x-python",
   "name": "python",
   "nbconvert_exporter": "python",
   "pygments_lexer": "ipython3",
   "version": "3.12.4"
  }
 },
 "nbformat": 4,
 "nbformat_minor": 5
}
